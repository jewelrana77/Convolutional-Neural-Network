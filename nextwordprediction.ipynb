{
  "nbformat": 4,
  "nbformat_minor": 0,
  "metadata": {
    "colab": {
      "provenance": [],
      "gpuType": "T4",
      "authorship_tag": "ABX9TyOmWfhdtoM5aSUreqLEGyJe",
      "include_colab_link": true
    },
    "kernelspec": {
      "name": "python3",
      "display_name": "Python 3"
    },
    "language_info": {
      "name": "python"
    },
    "accelerator": "GPU"
  },
  "cells": [
    {
      "cell_type": "markdown",
      "metadata": {
        "id": "view-in-github",
        "colab_type": "text"
      },
      "source": [
        "<a href=\"https://colab.research.google.com/github/jewelrana77/Convolutional-Neural-Network/blob/main/nextwordprediction.ipynb\" target=\"_parent\"><img src=\"https://colab.research.google.com/assets/colab-badge.svg\" alt=\"Open In Colab\"/></a>"
      ]
    },
    {
      "cell_type": "code",
      "execution_count": null,
      "metadata": {
        "id": "ZZZ1djC08-ep"
      },
      "outputs": [],
      "source": [
        "!pip -q install numpy\n",
        "!pip -q install tensorflow\n",
        "!pip -q install keras\n",
        "!pip -q install nltk\n",
        "\n",
        "import numpy as np\n",
        "from nltk.tokenize import RegexpTokenizer\n",
        "from tensorflow.keras.models import Sequential, load_model\n",
        "from tensorflow.keras.layers import LSTM, Dense\n",
        "from tensorflow.keras.optimizers import RMSprop\n",
        "import matplotlib.pyplot as plt\n",
        "import pickle\n",
        "import heapq\n",
        "\n"
      ]
    },
    {
      "cell_type": "code",
      "source": [
        "path = '/content/winter_bd.txt'\n",
        "text = open(path).read().lower()\n",
        "print('corpus length:', len(text))"
      ],
      "metadata": {
        "colab": {
          "base_uri": "https://localhost:8080/"
        },
        "id": "Ej7iMuS1-jEK",
        "outputId": "c631a51a-5081-4109-a8c4-1a7a1906b8b4"
      },
      "execution_count": null,
      "outputs": [
        {
          "output_type": "stream",
          "name": "stdout",
          "text": [
            "corpus length: 4724\n"
          ]
        }
      ]
    },
    {
      "cell_type": "code",
      "source": [
        "tokenizer = RegexpTokenizer(r'\\w+')\n",
        "words = tokenizer.tokenize(text)\n"
      ],
      "metadata": {
        "id": "EirQ1O8E-x7K"
      },
      "execution_count": null,
      "outputs": []
    },
    {
      "cell_type": "code",
      "source": [
        "unique_words = np.unique(words)\n",
        "unique_word_index = dict((c, i) for i, c in enumerate(unique_words))"
      ],
      "metadata": {
        "id": "hoqsm7q3-5aK"
      },
      "execution_count": null,
      "outputs": []
    },
    {
      "cell_type": "code",
      "source": [
        "WORD_LENGTH = 5\n",
        "prev_words = []\n",
        "next_words = []\n",
        "for i in range(len(words) - WORD_LENGTH):\n",
        "    prev_words.append(words[i:i + WORD_LENGTH])\n",
        "    next_words.append(words[i + WORD_LENGTH])\n",
        "print(prev_words[0])\n",
        "print(next_words[0])"
      ],
      "metadata": {
        "colab": {
          "base_uri": "https://localhost:8080/"
        },
        "id": "dkfdbwrK-57d",
        "outputId": "a4040570-b300-4807-b2b8-f316207f662c"
      },
      "execution_count": null,
      "outputs": [
        {
          "output_type": "stream",
          "name": "stdout",
          "text": [
            "['here', 'is', 'a', '500', 'sentence']\n",
            "text\n"
          ]
        }
      ]
    },
    {
      "cell_type": "code",
      "source": [
        "X = np.zeros((len(prev_words), WORD_LENGTH, len(unique_words)), dtype=bool)\n",
        "Y = np.zeros((len(next_words), len(unique_words)), dtype=bool)\n",
        "for i, each_words in enumerate(prev_words):\n",
        "    for j, each_word in enumerate(each_words):\n",
        "        X[i, j, unique_word_index[each_word]] = 1\n",
        "    Y[i, unique_word_index[next_words[i]]] = 1"
      ],
      "metadata": {
        "id": "T6W5r07g-8rk"
      },
      "execution_count": null,
      "outputs": []
    },
    {
      "cell_type": "code",
      "source": [
        "print(X[0][0])"
      ],
      "metadata": {
        "id": "I2EcNs6c_Dsw",
        "colab": {
          "base_uri": "https://localhost:8080/"
        },
        "outputId": "9fa2d4e2-d7f8-4dd0-b9e0-e091bcbbb64d"
      },
      "execution_count": null,
      "outputs": [
        {
          "output_type": "stream",
          "name": "stdout",
          "text": [
            "[False False False False False False False False False False False False\n",
            " False False False False False False False False False False False False\n",
            " False False False False False False False False False False False False\n",
            " False False False False False False False False False False False False\n",
            " False False False False False False False False False False False False\n",
            " False False False False False False False False False False False False\n",
            " False False False False False False False False False False False False\n",
            " False False False False False False False False False False False False\n",
            " False False False False False False False False False False False False\n",
            " False False False False False False False False False False False False\n",
            " False False False False False False False False False False False False\n",
            " False False False False False False  True False False False False False\n",
            " False False False False False False False False False False False False\n",
            " False False False False False False False False False False False False\n",
            " False False False False False False False False False False False False\n",
            " False False False False False False False False False False False False\n",
            " False False False False False False False False False False False False\n",
            " False False False False False False False False False False False False\n",
            " False False False False False False False False False False False False\n",
            " False False False False False False False False False False False False\n",
            " False False False False False False False False False False False False\n",
            " False False False False False False False False False False False False\n",
            " False False False False False False False False False False False False\n",
            " False False False False False False False False False False False False\n",
            " False False False False False False False False False False False False\n",
            " False False False False False False]\n"
          ]
        }
      ]
    },
    {
      "cell_type": "code",
      "source": [
        "from tensorflow.keras.layers import LSTM, Dense, Activation\n",
        "from tensorflow.keras.optimizers import RMSprop\n",
        "from keras.models import Sequential, load_model"
      ],
      "metadata": {
        "id": "kOl3YKSX_2I-"
      },
      "execution_count": null,
      "outputs": []
    },
    {
      "cell_type": "code",
      "source": [
        "model = Sequential()\n",
        "model.add(LSTM(128, input_shape=(WORD_LENGTH, len(unique_words))))\n",
        "model.add(Dense(len(unique_words)))\n",
        "model.add(Activation('softmax'))"
      ],
      "metadata": {
        "id": "KTGgp1FP_Jnv"
      },
      "execution_count": null,
      "outputs": []
    },
    {
      "cell_type": "code",
      "source": [
        "optimizer = RMSprop(lr=0.01)\n",
        "model.compile(loss='categorical_crossentropy', optimizer=optimizer, metrics=['accuracy'])\n",
        "history = model.fit(X, Y, validation_split=0.05, batch_size=128, epochs=10, shuffle=True).history"
      ],
      "metadata": {
        "colab": {
          "base_uri": "https://localhost:8080/"
        },
        "id": "eaWaVNEf_NA5",
        "outputId": "f255896e-ae97-4d3d-d235-afadcb987fe6"
      },
      "execution_count": null,
      "outputs": [
        {
          "output_type": "stream",
          "name": "stderr",
          "text": [
            "WARNING:absl:`lr` is deprecated in Keras optimizer, please use `learning_rate` or use the legacy optimizer, e.g.,tf.keras.optimizers.legacy.RMSprop.\n"
          ]
        },
        {
          "output_type": "stream",
          "name": "stdout",
          "text": [
            "Epoch 1/10\n",
            "7/7 [==============================] - 2s 88ms/step - loss: 5.7137 - accuracy: 0.0350 - val_loss: 5.6949 - val_accuracy: 0.1463\n",
            "Epoch 2/10\n",
            "7/7 [==============================] - 0s 13ms/step - loss: 5.6898 - accuracy: 0.0804 - val_loss: 5.6793 - val_accuracy: 0.1463\n",
            "Epoch 3/10\n",
            "7/7 [==============================] - 0s 12ms/step - loss: 5.6668 - accuracy: 0.0804 - val_loss: 5.6546 - val_accuracy: 0.1463\n",
            "Epoch 4/10\n",
            "7/7 [==============================] - 0s 9ms/step - loss: 5.6311 - accuracy: 0.0791 - val_loss: 5.6081 - val_accuracy: 0.1220\n",
            "Epoch 5/10\n",
            "7/7 [==============================] - 0s 10ms/step - loss: 5.5620 - accuracy: 0.0791 - val_loss: 5.4981 - val_accuracy: 0.1220\n",
            "Epoch 6/10\n",
            "7/7 [==============================] - 0s 9ms/step - loss: 5.4035 - accuracy: 0.0791 - val_loss: 5.2287 - val_accuracy: 0.1220\n",
            "Epoch 7/10\n",
            "7/7 [==============================] - 0s 10ms/step - loss: 5.1105 - accuracy: 0.0791 - val_loss: 5.0142 - val_accuracy: 0.1220\n",
            "Epoch 8/10\n",
            "7/7 [==============================] - 0s 9ms/step - loss: 4.9497 - accuracy: 0.0791 - val_loss: 4.9707 - val_accuracy: 0.1220\n",
            "Epoch 9/10\n",
            "7/7 [==============================] - 0s 13ms/step - loss: 4.9052 - accuracy: 0.0791 - val_loss: 4.9952 - val_accuracy: 0.1220\n",
            "Epoch 10/10\n",
            "7/7 [==============================] - 0s 13ms/step - loss: 4.8873 - accuracy: 0.0791 - val_loss: 5.0015 - val_accuracy: 0.1220\n"
          ]
        }
      ]
    },
    {
      "cell_type": "code",
      "source": [
        "model.save('keras_next_word_model.h5')\n",
        "pickle.dump(history, open(\"history.p\", \"wb\"))\n",
        "model = load_model('keras_next_word_model.h5')\n",
        "history = pickle.load(open(\"history.p\", \"rb\"))"
      ],
      "metadata": {
        "id": "MyvtvopSAFHv"
      },
      "execution_count": null,
      "outputs": []
    },
    {
      "cell_type": "code",
      "source": [
        "history"
      ],
      "metadata": {
        "colab": {
          "base_uri": "https://localhost:8080/"
        },
        "id": "W-ny6kqRofVW",
        "outputId": "cc20b58d-85e9-4257-8440-d150ca01a320"
      },
      "execution_count": null,
      "outputs": [
        {
          "output_type": "execute_result",
          "data": {
            "text/plain": [
              "{'loss': [5.71371603012085,\n",
              "  5.68979024887085,\n",
              "  5.666789531707764,\n",
              "  5.631115436553955,\n",
              "  5.561996936798096,\n",
              "  5.4034624099731445,\n",
              "  5.110507965087891,\n",
              "  4.949674606323242,\n",
              "  4.905243873596191,\n",
              "  4.887333393096924],\n",
              " 'accuracy': [0.03501945361495018,\n",
              "  0.08041504770517349,\n",
              "  0.08041504770517349,\n",
              "  0.0791180282831192,\n",
              "  0.0791180282831192,\n",
              "  0.0791180282831192,\n",
              "  0.0791180282831192,\n",
              "  0.0791180282831192,\n",
              "  0.0791180282831192,\n",
              "  0.0791180282831192],\n",
              " 'val_loss': [5.694889545440674,\n",
              "  5.679320335388184,\n",
              "  5.654628753662109,\n",
              "  5.6081037521362305,\n",
              "  5.498111724853516,\n",
              "  5.22870397567749,\n",
              "  5.014230728149414,\n",
              "  4.970695495605469,\n",
              "  4.995234966278076,\n",
              "  5.001532554626465],\n",
              " 'val_accuracy': [0.1463414579629898,\n",
              "  0.1463414579629898,\n",
              "  0.1463414579629898,\n",
              "  0.12195122241973877,\n",
              "  0.12195122241973877,\n",
              "  0.12195122241973877,\n",
              "  0.12195122241973877,\n",
              "  0.12195122241973877,\n",
              "  0.12195122241973877,\n",
              "  0.12195122241973877]}"
            ]
          },
          "metadata": {},
          "execution_count": 31
        }
      ]
    },
    {
      "cell_type": "code",
      "source": [
        "plt.plot(history['accuracy'])\n",
        "plt.plot(history['val_accuracy'])\n",
        "plt.title('model accuracy')\n",
        "plt.ylabel('accuracy')\n",
        "plt.xlabel('epoch')\n",
        "plt.legend(['train', 'test'], loc='upper left')"
      ],
      "metadata": {
        "colab": {
          "base_uri": "https://localhost:8080/",
          "height": 489
        },
        "id": "PG3EAsK_onGE",
        "outputId": "c9925968-8d63-4ed5-cbb1-d8359a1b2f43"
      },
      "execution_count": null,
      "outputs": [
        {
          "output_type": "execute_result",
          "data": {
            "text/plain": [
              "<matplotlib.legend.Legend at 0x7b0434b62860>"
            ]
          },
          "metadata": {},
          "execution_count": 32
        },
        {
          "output_type": "display_data",
          "data": {
            "text/plain": [
              "<Figure size 640x480 with 1 Axes>"
            ],
            "image/png": "[encoded data removed]"
          },
          "metadata": {}
        }
      ]
    },
    {
      "cell_type": "code",
      "source": [
        "plt.plot(history['loss'])\n",
        "plt.plot(history['val_loss'])\n",
        "plt.title('model loss')\n",
        "plt.ylabel('loss')\n",
        "plt.xlabel('epoch')\n",
        "plt.legend(['train', 'test'], loc='upper left')"
      ],
      "metadata": {
        "colab": {
          "base_uri": "https://localhost:8080/",
          "height": 489
        },
        "id": "51f7x1v9ovAQ",
        "outputId": "304d5807-1024-43c0-cca7-42e44b92e4a1"
      },
      "execution_count": null,
      "outputs": [
        {
          "output_type": "execute_result",
          "data": {
            "text/plain": [
              "<matplotlib.legend.Legend at 0x7b044e7de6e0>"
            ]
          },
          "metadata": {},
          "execution_count": 33
        },
        {
          "output_type": "display_data",
          "data": {
            "text/plain": [
              "<Figure size 640x480 with 1 Axes>"
            ],
            "image/png": "[encoded data removed]"
          },
          "metadata": {}
        }
      ]
    },
    {
      "cell_type": "code",
      "source": [
        "def prepare_input(text):\n",
        "    x = np.zeros((1, WORD_LENGTH, len(unique_words)))\n",
        "    for t, word in enumerate(text.split()):\n",
        "        print(word)\n",
        "        x[0, t, unique_word_index[word]] = 1\n",
        "    return x\n",
        "prepare_input(\"The winter season in Bangladesh\".lower())\n"
      ],
      "metadata": {
        "colab": {
          "base_uri": "https://localhost:8080/"
        },
        "id": "ZW2mBtEIo0pF",
        "outputId": "b40b6124-04c7-4c6f-d6d3-8613109df62b"
      },
      "execution_count": null,
      "outputs": [
        {
          "output_type": "stream",
          "name": "stdout",
          "text": [
            "the\n",
            "winter\n",
            "season\n",
            "in\n",
            "bangladesh\n"
          ]
        },
        {
          "output_type": "execute_result",
          "data": {
            "text/plain": [
              "array([[[0., 0., 0., ..., 0., 0., 0.],\n",
              "        [0., 0., 0., ..., 0., 0., 0.],\n",
              "        [0., 0., 0., ..., 0., 0., 0.],\n",
              "        [0., 0., 0., ..., 0., 0., 0.],\n",
              "        [0., 0., 0., ..., 0., 0., 0.]]])"
            ]
          },
          "metadata": {},
          "execution_count": 34
        }
      ]
    },
    {
      "cell_type": "code",
      "source": [
        "def sample(preds, top_n=3):\n",
        "    preds = np.asarray(preds).astype('float64')\n",
        "    preds = np.log(preds)\n",
        "    exp_preds = np.exp(preds)\n",
        "    preds = exp_preds / np.sum(exp_preds)\n",
        "\n",
        "    return heapq.nlargest(top_n, range(len(preds)), preds.take)"
      ],
      "metadata": {
        "id": "BXLv-Xs_pHPa"
      },
      "execution_count": null,
      "outputs": []
    },
    {
      "cell_type": "code",
      "source": [
        "\n",
        "def predict_completions(text, n=3):\n",
        "    if text == \"\":\n",
        "        return(\"0\")\n",
        "    x = prepare_input(text)\n",
        "    preds = model.predict(x, verbose=0)[0]\n",
        "    next_indices = sample(preds, n)\n",
        "    return [unique_words[idx] for idx in next_indices]"
      ],
      "metadata": {
        "id": "dIEPgt8xpLZ9"
      },
      "execution_count": null,
      "outputs": []
    },
    {
      "cell_type": "code",
      "source": [
        " for i in range(5):\n",
        "      q = input(\"Enter your sentence: \")\n",
        "      print(\"Correct sentence: \",q)\n",
        "      seq = \" \".join(tokenizer.tokenize(q.lower())[0:5])\n",
        "      print(\"Sequence: \",seq)\n",
        "      print(\"Next possible words: \", predict_completions(seq, 5))\n"
      ],
      "metadata": {
        "id": "GO1muJUepOPd"
      },
      "execution_count": null,
      "outputs": []
    }
  ]
}