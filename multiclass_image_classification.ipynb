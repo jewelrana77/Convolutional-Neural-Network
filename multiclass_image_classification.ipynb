{
  "cells": [
    {
      "cell_type": "code",
      "execution_count": null,
      "metadata": {
        "colab": {
          "base_uri": "https://localhost:8080/"
        },
        "id": "gZBuqF8D0Snb",
        "outputId": "f5091006-cbd5-4e2b-9577-f638837d786a"
      },
      "outputs": [],
      "source": [
        "!unzip /content/drive/MyDrive/flower_photos.zip"
      ]
    },
    {
      "cell_type": "code",
      "execution_count": null,
      "metadata": {
        "id": "50qfzYDZh9vh"
      },
      "outputs": [],
      "source": [
        "import tensorflow as tf\n",
        "import numpy as np"
      ]
    },
    {
      "cell_type": "code",
      "execution_count": null,
      "metadata": {
        "id": "J79YagZ3iQhd"
      },
      "outputs": [],
      "source": [
        "base_dir=r\"/content/flower_photos\""
      ]
    },
    {
      "cell_type": "code",
      "execution_count": null,
      "metadata": {
        "colab": {
          "base_uri": "https://localhost:8080/"
        },
        "id": "cYy3HOo6irSB",
        "outputId": "797d4227-d268-4e0d-f483-77e196098ab9"
      },
      "outputs": [
        {
          "name": "stdout",
          "output_type": "stream",
          "text": [
            "Found 2586 images belonging to 4 classes.\n",
            "Found 285 images belonging to 4 classes.\n"
          ]
        }
      ],
      "source": [
        "IMAGE_SIZE=100\n",
        "BATCH_SIZE=64\n",
        "\n",
        "#pre=processing\n",
        "train_datagen=tf.keras.preprocessing.image.ImageDataGenerator(\n",
        "    rescale=1./255,\n",
        "    shear_range=0.2,\n",
        "    zoom_range=0.2,\n",
        "    horizontal_flip=True,\n",
        "    validation_split=0.1\n",
        "    )\n",
        "\n",
        "test_datagen=tf.keras.preprocessing.image.ImageDataGenerator(\n",
        "     rescale=1./255,\n",
        "     validation_split=0.1\n",
        ")\n",
        "\n",
        "train_datagen=train_datagen.flow_from_directory(\n",
        "    base_dir,\n",
        "    target_size=(IMAGE_SIZE,IMAGE_SIZE),\n",
        "    batch_size=BATCH_SIZE,\n",
        "    subset='training'\n",
        ")\n",
        "\n",
        "test_datagen=test_datagen.flow_from_directory(\n",
        "    base_dir,\n",
        "    target_size=(IMAGE_SIZE,IMAGE_SIZE),\n",
        "    batch_size=BATCH_SIZE,\n",
        "    subset='validation'\n",
        ")"
      ]
    },
    {
      "cell_type": "code",
      "execution_count": null,
      "metadata": {
        "id": "mBbHsY9Cl5Fd"
      },
      "outputs": [],
      "source": [
        "# Define the CNN model\n",
        "cnn = tf.keras.Sequential()\n",
        "\n",
        "# First Convolutional Layer\n",
        "cnn.add(tf.keras.layers.Conv2D(filters=64, kernel_size=3, activation='relu', padding='same', input_shape=(100, 100, 3)))\n",
        "cnn.add(tf.keras.layers.MaxPool2D(pool_size=2, strides=2))\n",
        "\n",
        "# Second Convolutional Layer\n",
        "cnn.add(tf.keras.layers.Conv2D(filters=128, kernel_size=3, activation='relu', padding='same'))\n",
        "cnn.add(tf.keras.layers.MaxPool2D(pool_size=2, strides=2))\n",
        "\n",
        "# Third Convolutional Layer (optional)\n",
        "# cnn.add(tf.keras.layers.Conv2D(filters=256, kernel_size=3, activation='relu', padding='same'))\n",
        "# cnn.add(tf.keras.layers.MaxPool2D(pool_size=2, strides=2))\n",
        "\n",
        "# Flatten Layer\n",
        "cnn.add(tf.keras.layers.Flatten())\n",
        "\n",
        "# Fully Connected Layer\n",
        "cnn.add(tf.keras.layers.Dense(256, activation='relu'))\n",
        "cnn.add(tf.keras.layers.Dropout(0.5))  # Dropout for regularization\n",
        "\n",
        "# Output Layer\n",
        "cnn.add(tf.keras.layers.Dense(4, activation='softmax'))\n",
        "\n"
      ]
    },
    {
      "cell_type": "code",
      "execution_count": null,
      "metadata": {
        "id": "fQ6Pg47ryg0k"
      },
      "outputs": [],
      "source": [
        "cnn.compile(optimizer=tf.keras.optimizers.Adam(learning_rate=0.001), loss='categorical_crossentropy', metrics=['accuracy'])"
      ]
    },
    {
      "cell_type": "code",
      "execution_count": null,
      "metadata": {
        "colab": {
          "base_uri": "https://localhost:8080/"
        },
        "id": "CtPKJa0MymHP",
        "outputId": "8b8e1876-11e0-4199-e211-c85470b67b16"
      },
      "outputs": [
        {
          "name": "stdout",
          "output_type": "stream",
          "text": [
            "Epoch 1/10\n",
            "41/41 [==============================] - 15s 313ms/step - loss: 0.6484 - accuracy: 0.7572 - val_loss: 0.7810 - val_accuracy: 0.7263\n",
            "Epoch 2/10\n",
            "41/41 [==============================] - 14s 338ms/step - loss: 0.6185 - accuracy: 0.7575 - val_loss: 0.7708 - val_accuracy: 0.7158\n",
            "Epoch 3/10\n",
            "41/41 [==============================] - 14s 335ms/step - loss: 0.5984 - accuracy: 0.7684 - val_loss: 0.7556 - val_accuracy: 0.7333\n",
            "Epoch 4/10\n",
            "41/41 [==============================] - 14s 335ms/step - loss: 0.5908 - accuracy: 0.7718 - val_loss: 0.7629 - val_accuracy: 0.7298\n",
            "Epoch 5/10\n",
            "41/41 [==============================] - 14s 336ms/step - loss: 0.5812 - accuracy: 0.7749 - val_loss: 0.7597 - val_accuracy: 0.7544\n",
            "Epoch 6/10\n",
            "41/41 [==============================] - 13s 327ms/step - loss: 0.5474 - accuracy: 0.7873 - val_loss: 0.7411 - val_accuracy: 0.7614\n",
            "Epoch 7/10\n",
            "41/41 [==============================] - 13s 326ms/step - loss: 0.5264 - accuracy: 0.8016 - val_loss: 0.7518 - val_accuracy: 0.7439\n",
            "Epoch 8/10\n",
            "41/41 [==============================] - 13s 322ms/step - loss: 0.5137 - accuracy: 0.7997 - val_loss: 0.7357 - val_accuracy: 0.7579\n",
            "Epoch 9/10\n",
            "41/41 [==============================] - 13s 322ms/step - loss: 0.4965 - accuracy: 0.8028 - val_loss: 0.7271 - val_accuracy: 0.7614\n",
            "Epoch 10/10\n",
            "41/41 [==============================] - 13s 320ms/step - loss: 0.4957 - accuracy: 0.8148 - val_loss: 0.7056 - val_accuracy: 0.7649\n"
          ]
        },
        {
          "data": {
            "text/plain": [
              "<keras.src.callbacks.History at 0x7ee74a2be2c0>"
            ]
          },
          "execution_count": 50,
          "metadata": {},
          "output_type": "execute_result"
        }
      ],
      "source": [
        "cnn.fit(train_datagen,epochs=10,validation_data=test_datagen)"
      ]
    }
  ],
  "metadata": {
    "accelerator": "GPU",
    "colab": {
      "gpuType": "T4",
      "provenance": []
    },
    "kernelspec": {
      "display_name": "Python 3",
      "name": "python3"
    },
    "language_info": {
      "name": "python"
    }
  },
  "nbformat": 4,
  "nbformat_minor": 0
}
